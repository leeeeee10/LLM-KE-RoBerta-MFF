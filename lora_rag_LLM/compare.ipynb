{
 "cells": [
  {
   "cell_type": "code",
   "execution_count": 1,
   "id": "cdbb5a08-23ef-42ab-8398-28073bb8d17b",
   "metadata": {
    "ExecutionIndicator": {
     "show": false
    },
    "execution": {
     "iopub.execute_input": "2025-03-13T00:53:51.762448Z",
     "iopub.status.busy": "2025-03-13T00:53:51.762124Z",
     "iopub.status.idle": "2025-03-13T00:54:42.728710Z",
     "shell.execute_reply": "2025-03-13T00:54:42.728140Z",
     "shell.execute_reply.started": "2025-03-13T00:53:51.762425Z"
    },
    "tags": []
   },
   "outputs": [
    {
     "name": "stderr",
     "output_type": "stream",
     "text": [
      "2025-03-13 08:53:54.088737: I tensorflow/core/util/port.cc:113] oneDNN custom operations are on. You may see slightly different numerical results due to floating-point round-off errors from different computation orders. To turn them off, set the environment variable `TF_ENABLE_ONEDNN_OPTS=0`.\n",
      "2025-03-13 08:53:54.130629: I tensorflow/core/platform/cpu_feature_guard.cc:210] This TensorFlow binary is optimized to use available CPU instructions in performance-critical operations.\n",
      "To enable the following instructions: AVX2 AVX512F AVX512_VNNI FMA, in other operations, rebuild TensorFlow with the appropriate compiler flags.\n",
      "2025-03-13 08:53:54.893764: W tensorflow/compiler/tf2tensorrt/utils/py_utils.cc:38] TF-TRT Warning: Could not find TensorRT\n",
      "Device set to use cuda:0\n",
      "Truncation was not explicitly activated but `max_length` is provided a specific value, please use `truncation=True` to explicitly truncate examples to max length. Defaulting to 'longest_first' truncation strategy. If you encode pairs of sequences (GLUE-style) with the tokenizer you can select this strategy more precisely by providing a specific strategy to `truncation`.\n"
     ]
    },
    {
     "name": "stdout",
     "output_type": "stream",
     "text": [
      "原始模型输出: [{'generated_text': '请按以下要求生成科技领域的专业关键词：\\n1. 按指定格式输出，严格使用#号分隔类别\\n2. 每个类别生成30个专业关键词\\n3. 避免重复，使用中文逗号分隔\\n\\n示例格式：\\n#卫星互联网\\n低轨卫星, 星间链路, 相控阵天线...\\n\\n#生物制造\\n合成生物学, 细胞工厂...\\n\\n请生成以下类别的关键词：\\n卫星互联网, 生物制造, 生命科学, 元宇宙, 前沿新材料, 未来能源, 功率半导体及集成电路,AI及机器人, 服务器, 智能家居, 传感器及仪器仪表, 智能制造装备, 动力装备, 农机装备, 纤维及复合材料,合成材料, 现代中药, 医疗器械\\n好的，我现在要按照用户的要求生成科技领域的专业关键词。首先，我需要仔细阅读用户提供的示例，了解生成关键词的格式和方法。用户要求严格使用#号分隔类别，每个类别生成30个专业关键词，避免重复，用中文逗号分隔。\\n\\n接下来，我逐一查看用户提供的类别列表：\\n\\n1. 卫星互联网\\n2. 生物制造\\n3. 生命科学\\n4. 元宇宙\\n5. 前沿新材料\\n6. 未来能源\\n7. 功率半导体及集成电路\\n8. AI及机器人\\n9. 服务器\\n10. 智能家居\\n11. 传感器及仪器仪表\\n12. 智能制造装备\\n13. 动力装备\\n14. 农机装备\\n15. 纤维及复合材料\\n16. 合成材料\\n17. 现代中药\\n18. 医疗器械\\n\\n好的，现在我需要为每个类别生成30个专业关键词。我会逐一处理每个类别，确保关键词不重复，并且用中文逗号分隔。\\n\\n首先，处理“卫星互联网”类别。这可能涉及卫星通信、导航、网络等技术。关键词可能包括卫星通信系统、导航卫星、卫星网络、卫星天线、低地球轨道卫星、高地球轨道卫星、卫星导航系统、卫星通信网络等。\\n\\n接下来是“生物制造”类别。生物制造可能涉及基因工程、细胞培养、生物合成等技术。关键词可能包括基因工程、细胞工厂、基因表达系统、生物合成材料、基因工程工具、生物合成技术、生物制造流程、生物合成材料、生物合成技术、生物合成方法、生物合成工具、生物制造方法、生物合成系统、生物合成过程、生物合成技术、生物合成材料、生物合成方法、生物合成工具、生物制造流程、生物合成系统。\\n\\n然后是“生命科学”类别。生命科学涉及分子生物学、细胞生物学、遗传学等。关键词可能包括分子生物学、细胞生物学、遗传学、分子生物学技术、细胞生物学技术、遗传学方法、分子生物学技术、细胞生物学技术、遗传学方法、分子生物学技术、细胞生物学技术、遗传学方法、分子生物学技术、细胞生物学技术、遗传学方法、分子生物学技术、细胞生物学技术、遗传学方法、分子生物学技术、细胞生物学技术、遗传学方法、分子生物学技术、细胞生物学技术、遗传学方法、分子生物学技术、细胞生物学技术、遗传学方法。\\n\\n接下来是“元宇宙”类别。元宇宙可能涉及虚拟现实、增强现实、网络通信、虚拟现实技术等。关键词可能包括虚拟现实技术、增强现实技术、网络通信技术、虚拟现实系统、增强现实系统、虚拟现实技术、增强现实系统、网络通信技术、虚拟现实系统、增强现实系统、虚拟现实技术、增强现实'}, {'generated_text': '请按以下要求生成科技领域的专业关键词：\\n1. 按指定格式输出，严格使用#号分隔类别\\n2. 每个类别生成30个专业关键词\\n3. 避免重复，使用中文逗号分隔\\n\\n示例格式：\\n#卫星互联网\\n低轨卫星, 星间链路, 相控阵天线...\\n\\n#生物制造\\n合成生物学, 细胞工厂...\\n\\n请生成以下类别的关键词：\\n卫星互联网, 生物制造, 生命科学, 元宇宙, 前沿新材料, 未来能源, 功率半导体及集成电路,AI及机器人, 服务器, 智能家居, 传感器及仪器仪表, 智能制造装备, 动力装备, 农机装备, 纤维及复合材料,合成材料, 现代中药, 医疗器械\\n好的，我现在要按照用户的要求生成科技领域的专业关键词。首先，我需要仔细阅读用户提供的示例格式，确保理解每个类别需要生成30个关键词，并且用#号分隔。每个关键词之间用中文逗号分隔，避免重复。\\n\\n接下来，我逐个查看用户提供的类别列表，逐一生成对应的关键词。我需要确保每个类别都涵盖到相关且重要的科技领域。例如，对于“卫星互联网”，我应该包括卫星通信、天线、导航系统等关键词。\\n\\n在处理“生物制造”时，关键词应涵盖生物工程、细胞工厂、基因工程等。对于“生命科学”，重点应放在基因组学、细胞生物学、微生物学等。在“元宇宙”方面，可能涉及虚拟现实、人工智能、数据流网络等。\\n\\n对于“前沿新材料”和“未来能源”，我需要涵盖材料科学、新能源技术、可再生能源等。在“功率半导体及集成电路”时，关键词包括晶体管、晶体管电路、芯片等。\\n\\n“AI及机器人”需要涵盖机器学习、人工智能、机器人技术等。“服务器”应包括服务器架构、服务器管理、云服务器等。“智能家居”涉及传感器、智能设备、控制算法等。“传感器及仪器仪表”应包括传感器、数据采集、电子仪器等。\\n\\n“智能家居”和“工业机器人”可能需要综合考虑。“现代中药”涵盖中药学、药理学、疗效学等。“医疗器械”包括手术器械、手术设备、医疗设备等。\\n\\n在生成过程中，我需要确保关键词之间没有重复，并且用中文逗号分隔。例如，对于“卫星互联网”，关键词应包括低轨卫星、天线、导航系统等。\\n\\n现在，我开始逐一处理每个类别：\\n\\n1. **卫星互联网**：\\n   - 卫星通信\\n   - 天线\\n   - 导航系统\\n   - 信号传输\\n   - 地面网络\\n   - 地球卫星\\n   - 星间链路\\n   - 相控阵天线\\n   - 多点通信\\n   - 多频段通信\\n   - 多边形天线\\n   - 低轨卫星\\n   - 星间链路\\n   - 相控阵天线\\n   - 多点通信\\n   - 多频段通信\\n   - 多边形天线\\n   - 地球卫星\\n   - 卫星通信\\n\\n2. **生物制造**：\\n   - 合成生物学\\n   - 细胞工厂\\n   - 细胞生物工程\\n   - 细胞工程\\n   - 细胞生物学\\n   - 细胞工程学\\n   - 细胞生物学研究\\n   - 细胞生物技术\\n   - 细胞工程\\n   - 细胞工程学\\n   - 细胞生物学\\n   - 细胞'}]\n"
     ]
    },
    {
     "data": {
      "application/vnd.jupyter.widget-view+json": {
       "model_id": "311f36430f734fae8d0b415f5667d04d",
       "version_major": 2,
       "version_minor": 0
      },
      "text/plain": [
       "Loading checkpoint shards:   0%|          | 0/2 [00:00<?, ?it/s]"
      ]
     },
     "metadata": {},
     "output_type": "display_data"
    },
    {
     "name": "stderr",
     "output_type": "stream",
     "text": [
      "Device set to use cuda:0\n",
      "Truncation was not explicitly activated but `max_length` is provided a specific value, please use `truncation=True` to explicitly truncate examples to max length. Defaulting to 'longest_first' truncation strategy. If you encode pairs of sequences (GLUE-style) with the tokenizer you can select this strategy more precisely by providing a specific strategy to `truncation`.\n"
     ]
    },
    {
     "name": "stdout",
     "output_type": "stream",
     "text": [
      "微调后模型输出: [{'generated_text': '请按以下要求生成科技领域的专业关键词：\\n1. 按指定格式输出，严格使用#号分隔类别\\n2. 每个类别生成30个专业关键词\\n3. 避免重复，使用中文逗号分隔\\n\\n示例格式：\\n#卫星互联网\\n低轨卫星, 星间链路, 相控阵天线...\\n\\n#生物制造\\n合成生物学, 细胞工厂...\\n\\n请生成以下类别的关键词：\\n卫星互联网, 生物制造, 生命科学, 元宇宙, 前沿新材料, 未来能源, 功率半导体及集成电路,AI及机器人, 服务器, 智能家居, 传感器及仪器仪表, 智能制造装备, 动力装备, 农机装备, 纤维及复合材料,合成材料, 现代中药, 医疗器械\\n好的，我现在需要按照用户的要求生成科技领域的专业关键词。首先，我要仔细阅读用户提供的指示，确保我完全理解每个要求。\\n\\n用户要求生成科技领域的专业关键词，严格使用#号分隔类别，每个类别生成30个专业关键词，避免重复，使用中文逗号分隔。此外，用户还提供了一个示例，帮助我更好地理解生成关键词的格式和内容。\\n\\n接下来，我需要分析用户提供的类别的列表，并为每个类别生成30个关键词。这些类别包括：卫星互联网, 生物制造, 生命科学, 元宇宙, 前沿新材料, 未来能源, 功率半导体及集成电路, AI及机器人, 服务器, 智能家居, 传感器及仪器仪表, 智能制造装备, 动力装备, 农机装备, 纤维及复合材料,合成材料, 医疗器械。\\n\\n我需要逐个分析每个类别，确保每个类别都有足够的关键词，并且关键词之间不重复。同时，关键词要用中文逗号分隔，每个类别用#号分隔。\\n\\n首先，处理“卫星互联网”这个类别。卫星互联网涉及多个技术领域，包括卫星通信、卫星导航、卫星网络等。可能的关键词包括卫星通信系统、卫星导航定位、卫星网络架构、卫星通信设备、卫星导航系统、卫星通信技术、卫星通信协议、卫星通信网络、卫星通信系统设计、卫星通信设备设计、卫星通信网络架构设计、卫星通信设备设计优化、卫星通信技术应用、卫星通信网络设计优化、卫星通信设备性能优化、卫星通信网络性能优化、卫星通信技术选型、卫星通信网络选型设计、卫星通信技术应用案例、卫星通信网络应用案例、卫星通信技术选型案例、卫星通信网络选型案例、卫星通信技术应用案例分析、卫星通信网络应用案例分析、卫星通信技术选型案例分析、卫星通信网络选型案例分析、卫星通信技术应用案例分析。\\n\\n接下来，处理“生物制造”类别，涉及生物工程、基因工程、细胞制造等。关键词可能包括生物工程设备、生物工程系统、生物工程过程、生物工程设备设计、生物工程系统设计、生物工程过程设计、生物工程设备性能优化、生物工程系统性能优化、生物工程过程性能优化、生物工程设备选型、生物工程系统选型、生物工程过程选型、生物工程设备性能优化案例、生物工程系统性能优化案例、生物工程过程性能优化案例、生物工程设备选型案例、生物工程系统选型案例、生物工程过程选型案例、生物工程设备性能优化设计、生物工程系统性能优化设计、生物工程过程性能优化设计、生物工程设备选型设计、生物工程系统选型设计、生物工程过程选型设计、生物工程设备性能优化设计案例、生物工程系统性能优化设计案例、生物工程过程性能优化设计案例'}, {'generated_text': '请按以下要求生成科技领域的专业关键词：\\n1. 按指定格式输出，严格使用#号分隔类别\\n2. 每个类别生成30个专业关键词\\n3. 避免重复，使用中文逗号分隔\\n\\n示例格式：\\n#卫星互联网\\n低轨卫星, 星间链路, 相控阵天线...\\n\\n#生物制造\\n合成生物学, 细胞工厂...\\n\\n请生成以下类别的关键词：\\n卫星互联网, 生物制造, 生命科学, 元宇宙, 前沿新材料, 未来能源, 功率半导体及集成电路,AI及机器人, 服务器, 智能家居, 传感器及仪器仪表, 智能制造装备, 动力装备, 农机装备, 纤维及复合材料,合成材料, 现代中药, 医疗器械\\n好的，我现在需要帮用户生成科技领域的专业关键词。用户已经给了具体的生成规则，包括格式、数量、避免重复，还有示例。接下来我要处理用户提供的列表，生成对应的关键词。\\n\\n首先，我需要明确用户的要求：每个类别生成30个关键词，用#号分隔，中文逗号分隔，不能重复。示例已经给出，比如#卫星互联网，还有#生物制造等。现在，我需要逐个处理用户提供的类别，确保每个类别都正确无误。\\n\\n让我先列出用户提供的类别：\\n1. 卫星互联网\\n2. 生物制造\\n3. 生命科学\\n4. 元宇宙\\n5. 前沿新材料\\n6. 未来能源\\n7. 功率半导体及集成电路\\n8. AI及机器人\\n9. 服务器\\n10. 智能家居\\n11. 传感器及仪器仪表\\n12. 智能制造装备\\n13. 动力装备\\n14. 农机装备\\n15. 纤维及复合材料\\n16.合成材料\\n17. 现代中药\\n18. 医疗器械\\n\\n接下来，我需要逐一处理这些类别，为每个类别生成30个专业关键词。每个关键词用中文逗号分隔，用#号分隔类别。\\n\\n比如，第一个类别是卫星互联网：\\n#卫星互联网\\n低轨卫星, 星间链路, 相控阵天线...\\n这样下去，每个关键词都要符合科技专业，且每个类别30个。\\n\\n现在，我需要确保每个关键词都是独立的，没有重复。例如，生物制造中的关键词不能与其他类别重复，如合成生物学、细胞工厂等。\\n\\n可能遇到的困难是生成足够多且独特的关键词，特别是对于生物制造这样的类别，可能需要更丰富的词汇。例如，\"基因编辑技术\"、\"基因组学\"等。\\n\\n接下来，我需要逐个处理每个类别，生成30个关键词，确保每个类别内的关键词都是独特的，且符合科技专业术语。\\n\\n现在，我开始处理每个类别：\\n\\n1. 卫星互联网：\\n低轨卫星, 星间链路, 相控阵天线, 天线系统, 高能天线, 空间通信, 太空网络, 航空通信, 空间天线, 太空通信系统, 灯光通信, 灯光传输链路, 高能天线系统, 量子天线, 天线设计, 天线调制, 天线辐射, 天线信号强度, 天线辐射强度, 天线传输链路, 天线设备, 天线技术, 天线性能指标, 天线设备设计, 天线系统设计, 天线传输链路设计, 天'}]\n"
     ]
    }
   ],
   "source": [
    "from transformers import pipeline\n",
    "from transformers import AutoTokenizer, AutoModelForSeq2SeqLM, AutoModelForMaskedLM, AutoModelForCausalLM\n",
    "# 原始模型推理\n",
    "\n",
    "prompt = \"\"\"请按以下要求生成科技领域的专业关键词：\n",
    "1. 按指定格式输出，严格使用#号分隔类别\n",
    "2. 每个类别生成30个业关键词\n",
    "3. 避免重复，使用中文逗号分隔\n",
    "4. 不能遗漏类别\n",
    "\n",
    "示例格式：\n",
    "#卫星互联网\n",
    "低轨卫星, 星间链路, 相控阵天线...\n",
    "\n",
    "#生物制造\n",
    "合成生物学, 细胞工厂...\n",
    "\n",
    "请生成以下类别的关键词，不能遗漏：\n",
    "高端装备制造, 生命科学, 智能感知与机器人技术,先进材料, 医疗健康,生物制造, 前沿科技,电子信息技术, 农机装备\n",
    "\"\"\"\n",
    "original_model = AutoModelForCausalLM.from_pretrained(\"DeepSeek-R1-Distill-Qwen-1.5B\")\n",
    "original_tokenizer = AutoTokenizer.from_pretrained(\"DeepSeek-R1-Distill-Qwen-1.5B\")\n",
    "original_pipeline = pipeline(\"text-generation\", model=original_model, tokenizer=original_tokenizer)\n",
    "original_output = original_pipeline(prompt, max_length=800,num_return_sequences=2)\n",
    "print(\"原始模型输出:\", original_output)\n",
    "\n",
    "# 微调后模型推理\n",
    "finetuned_model = AutoModelForCausalLM.from_pretrained(\"final_models\")\n",
    "finetuned_tokenizer = AutoTokenizer.from_pretrained(\"final_models\")\n",
    "finetuned_pipeline = pipeline(\"text-generation\", model=finetuned_model, tokenizer=finetuned_tokenizer)\n",
    "finetuned_output = finetuned_pipeline(prompt, max_length=800,num_return_sequences=2)\n",
    "print(\"微调后模型输出:\", finetuned_output)"
   ]
  }
 ],
 "metadata": {
  "kernelspec": {
   "display_name": "Python 3 (ipykernel)",
   "language": "python",
   "name": "python3"
  },
  "language_info": {
   "codemirror_mode": {
    "name": "ipython",
    "version": 3
   },
   "file_extension": ".py",
   "mimetype": "text/x-python",
   "name": "python",
   "nbconvert_exporter": "python",
   "pygments_lexer": "ipython3",
   "version": "3.11.11"
  }
 },
 "nbformat": 4,
 "nbformat_minor": 5
}
